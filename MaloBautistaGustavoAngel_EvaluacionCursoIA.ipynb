{
  "nbformat": 4,
  "nbformat_minor": 0,
  "metadata": {
    "colab": {
      "provenance": [],
      "authorship_tag": "ABX9TyMZ3ioNHF/bJ+7o2cD1rGP/",
      "include_colab_link": true
    },
    "kernelspec": {
      "name": "python3",
      "display_name": "Python 3"
    },
    "language_info": {
      "name": "python"
    }
  },
  "cells": [
    {
      "cell_type": "markdown",
      "metadata": {
        "id": "view-in-github",
        "colab_type": "text"
      },
      "source": [
        "<a href=\"https://colab.research.google.com/github/GuetavoMalo/semillero-ia-hitts/blob/main/MaloBautistaGustavoAngel_EvaluacionCursoIA.ipynb\" target=\"_parent\"><img src=\"https://colab.research.google.com/assets/colab-badge.svg\" alt=\"Open In Colab\"/></a>"
      ]
    },
    {
      "cell_type": "markdown",
      "source": [
        "**Malo Bautista Gustavo Angel Evaluacion Curso IA**"
      ],
      "metadata": {
        "id": "eSiok-E5LGMR"
      }
    },
    {
      "cell_type": "markdown",
      "source": [
        "**1. Carga y Preparación de Datos**"
      ],
      "metadata": {
        "id": "jp8KeXMwYShp"
      }
    },
    {
      "cell_type": "code",
      "source": [
        "\n",
        "import pandas as pd\n",
        "import numpy as np\n",
        "\n",
        "# URL del archivo .data (sin encabezados)\n",
        "url = 'https://archive.ics.uci.edu/ml/machine-learning-databases/statlog/german/german.data'\n",
        "\n",
        "# Los nombres de las columnas se deben asignar manualmente según la documentación del dataset\n",
        "column_names = [\n",
        "    'status', 'duration', 'credit_history', 'purpose', 'amount', 'savings',\n",
        "    'employment_duration', 'installment_rate', 'personal_status_sex',\n",
        "    'other_debtors', 'present_residence', 'property', 'age',\n",
        "    'other_installment_plans', 'housing', 'number_credits', 'job',\n",
        "    'people_liable', 'telephone', 'foreign_worker', 'credit_risk'\n",
        "]\n",
        "\n",
        "# Cargar los datos especificando que no hay encabezado y el separador es el espacio\n",
        "df = pd.read_csv(url, delim_whitespace=True, header=None, names=column_names)\n",
        "\n",
        "# Estandarizar la variable objetivo 'credit_risk'\n",
        "# En este archivo, 1 = Bueno (sin riesgo) y 2 = Malo (con riesgo).\n",
        "# Lo convertimos a 0 = Bueno y 1 = Malo.\n",
        "df['credit_risk'] = df['credit_risk'].replace({1: 0, 2: 1})\n",
        "\n",
        "print(\"✅ Datos cargados y preparados exitosamente desde la nueva URL.\")\n",
        "print(\"\\nPrimeras 5 filas del DataFrame:\")\n",
        "print(df.head())\n",
        "print(\"\\nInformación general del DataFrame:\")\n",
        "df.info()"
      ],
      "metadata": {
        "colab": {
          "base_uri": "https://localhost:8080/"
        },
        "id": "N484I9PjLOsO",
        "outputId": "d33805c7-96fb-4001-e943-f4afd58a4c99"
      },
      "execution_count": 18,
      "outputs": [
        {
          "output_type": "stream",
          "name": "stderr",
          "text": [
            "/tmp/ipython-input-390087169.py:17: FutureWarning: The 'delim_whitespace' keyword in pd.read_csv is deprecated and will be removed in a future version. Use ``sep='\\s+'`` instead\n",
            "  df = pd.read_csv(url, delim_whitespace=True, header=None, names=column_names)\n"
          ]
        },
        {
          "output_type": "stream",
          "name": "stdout",
          "text": [
            "✅ Datos cargados y preparados exitosamente desde la nueva URL.\n",
            "\n",
            "Primeras 5 filas del DataFrame:\n",
            "  status  duration credit_history purpose  amount savings employment_duration  \\\n",
            "0    A11         6            A34     A43    1169     A65                 A75   \n",
            "1    A12        48            A32     A43    5951     A61                 A73   \n",
            "2    A14        12            A34     A46    2096     A61                 A74   \n",
            "3    A11        42            A32     A42    7882     A61                 A74   \n",
            "4    A11        24            A33     A40    4870     A61                 A73   \n",
            "\n",
            "   installment_rate personal_status_sex other_debtors  ...  property age  \\\n",
            "0                 4                 A93          A101  ...      A121  67   \n",
            "1                 2                 A92          A101  ...      A121  22   \n",
            "2                 2                 A93          A101  ...      A121  49   \n",
            "3                 2                 A93          A103  ...      A122  45   \n",
            "4                 3                 A93          A101  ...      A124  53   \n",
            "\n",
            "   other_installment_plans housing number_credits   job people_liable  \\\n",
            "0                     A143    A152              2  A173             1   \n",
            "1                     A143    A152              1  A173             1   \n",
            "2                     A143    A152              1  A172             2   \n",
            "3                     A143    A153              1  A173             2   \n",
            "4                     A143    A153              2  A173             2   \n",
            "\n",
            "   telephone foreign_worker credit_risk  \n",
            "0       A192           A201           0  \n",
            "1       A191           A201           1  \n",
            "2       A191           A201           0  \n",
            "3       A191           A201           0  \n",
            "4       A191           A201           1  \n",
            "\n",
            "[5 rows x 21 columns]\n",
            "\n",
            "Información general del DataFrame:\n",
            "<class 'pandas.core.frame.DataFrame'>\n",
            "RangeIndex: 1000 entries, 0 to 999\n",
            "Data columns (total 21 columns):\n",
            " #   Column                   Non-Null Count  Dtype \n",
            "---  ------                   --------------  ----- \n",
            " 0   status                   1000 non-null   object\n",
            " 1   duration                 1000 non-null   int64 \n",
            " 2   credit_history           1000 non-null   object\n",
            " 3   purpose                  1000 non-null   object\n",
            " 4   amount                   1000 non-null   int64 \n",
            " 5   savings                  1000 non-null   object\n",
            " 6   employment_duration      1000 non-null   object\n",
            " 7   installment_rate         1000 non-null   int64 \n",
            " 8   personal_status_sex      1000 non-null   object\n",
            " 9   other_debtors            1000 non-null   object\n",
            " 10  present_residence        1000 non-null   int64 \n",
            " 11  property                 1000 non-null   object\n",
            " 12  age                      1000 non-null   int64 \n",
            " 13  other_installment_plans  1000 non-null   object\n",
            " 14  housing                  1000 non-null   object\n",
            " 15  number_credits           1000 non-null   int64 \n",
            " 16  job                      1000 non-null   object\n",
            " 17  people_liable            1000 non-null   int64 \n",
            " 18  telephone                1000 non-null   object\n",
            " 19  foreign_worker           1000 non-null   object\n",
            " 20  credit_risk              1000 non-null   int64 \n",
            "dtypes: int64(8), object(13)\n",
            "memory usage: 164.2+ KB\n"
          ]
        }
      ]
    },
    {
      "cell_type": "markdown",
      "source": [],
      "metadata": {
        "id": "4NE-WlgJYqZN"
      }
    },
    {
      "cell_type": "markdown",
      "source": [
        "**2. Partición de Datos (Entrenamiento y Prueba)**"
      ],
      "metadata": {
        "id": "a-gVzvEaYe75"
      }
    },
    {
      "cell_type": "code",
      "source": [
        "from sklearn.model_selection import train_test_split\n",
        "\n",
        "# Definir variables de entrada (X) y de salida (Y)\n",
        "X = df.drop('credit_risk', axis=1)\n",
        "y = df['credit_risk']\n",
        "\n",
        "# Realizar la partición estratificada\n",
        "X_train, X_test, y_train, y_test = train_test_split(\n",
        "    X, y,\n",
        "    test_size=0.15,\n",
        "    random_state=42, # Semilla para reproducibilidad\n",
        "    stratify=y\n",
        ")\n",
        "\n",
        "print(\"✅ Datos divididos en entrenamiento y prueba.\")\n",
        "print(f\"Tamaño del conjunto de entrenamiento: {X_train.shape[0]} muestras\")\n",
        "print(f\"Tamaño del conjunto de prueba: {X_test.shape[0]} muestras\")"
      ],
      "metadata": {
        "colab": {
          "base_uri": "https://localhost:8080/"
        },
        "id": "Xs1E8DyoMXkE",
        "outputId": "8cbd142d-9d2a-4b24-9c50-d0eea176c0a4"
      },
      "execution_count": 19,
      "outputs": [
        {
          "output_type": "stream",
          "name": "stdout",
          "text": [
            "✅ Datos divididos en entrenamiento y prueba.\n",
            "Tamaño del conjunto de entrenamiento: 850 muestras\n",
            "Tamaño del conjunto de prueba: 150 muestras\n"
          ]
        }
      ]
    },
    {
      "cell_type": "markdown",
      "source": [
        "\n",
        "\n",
        "**3.Pipeline de Preprocesamiento**\n"
      ],
      "metadata": {
        "id": "lZW-NoHFYy_v"
      }
    },
    {
      "cell_type": "code",
      "source": [
        "from sklearn.pipeline import Pipeline\n",
        "from sklearn.compose import ColumnTransformer\n",
        "from sklearn.impute import SimpleImputer\n",
        "from sklearn.preprocessing import StandardScaler, OneHotEncoder\n",
        "\n",
        "# Identificar los nombres de las columnas para cada tipo de variable\n",
        "numeric_features = ['duration', 'amount', 'age']\n",
        "# Todas las demás columnas con códigos (ej. 'A11') son tratadas como categóricas/ordinales.\n",
        "# OneHotEncoder es una forma robusta de manejarlas todas.\n",
        "categorical_features = X_train.select_dtypes(include=['object']).columns.tolist()\n",
        "ordinal_features = ['installment_rate', 'present_residence', 'number_credits', 'people_liable']\n",
        "\n",
        "# Crear el transformador para variables numéricas\n",
        "numeric_transformer = Pipeline(steps=[\n",
        "    ('imputer', SimpleImputer(strategy='median')),\n",
        "    ('scaler', StandardScaler())\n",
        "])\n",
        "\n",
        "# Crear el transformador para variables categóricas\n",
        "categorical_transformer = Pipeline(steps=[\n",
        "    ('imputer', SimpleImputer(strategy='most_frequent')),\n",
        "    ('onehot', OneHotEncoder(handle_unknown='ignore'))\n",
        "])\n",
        "\n",
        "# Crear el transformador para variables ordinales (solo imputación)\n",
        "ordinal_transformer = Pipeline(steps=[\n",
        "    ('imputer', SimpleImputer(strategy='most_frequent'))\n",
        "])\n",
        "\n",
        "\n",
        "# Unir todos los transformadores en un único objeto preprocesador\n",
        "preprocessor = ColumnTransformer(\n",
        "    transformers=[\n",
        "        ('num', numeric_transformer, numeric_features),\n",
        "        ('cat', categorical_transformer, categorical_features),\n",
        "        ('ord', ordinal_transformer, ordinal_features)\n",
        "    ],\n",
        "    remainder='passthrough'\n",
        ")\n",
        "\n",
        "print(\"✅ Pipeline de preprocesamiento construido exitosamente.\")"
      ],
      "metadata": {
        "colab": {
          "base_uri": "https://localhost:8080/"
        },
        "id": "oqTDaIKyPlaZ",
        "outputId": "50b4cc54-29cf-4b32-b693-9df23028c01e"
      },
      "execution_count": 20,
      "outputs": [
        {
          "output_type": "stream",
          "name": "stdout",
          "text": [
            "✅ Pipeline de preprocesamiento construido exitosamente.\n"
          ]
        }
      ]
    },
    {
      "cell_type": "markdown",
      "source": [
        "**4.Entrenamiento y Validación Cruzada**"
      ],
      "metadata": {
        "id": "63lJn71aZ6nK"
      }
    },
    {
      "cell_type": "code",
      "source": [
        "from sklearn.linear_model import LogisticRegression\n",
        "from sklearn.model_selection import RepeatedStratifiedKFold\n",
        "from sklearn.metrics import confusion_matrix\n",
        "\n",
        "# --- Funciones de métricas personalizadas ---\n",
        "def custom_accuracy(y_true, y_pred):\n",
        "    tn, fp, fn, tp = confusion_matrix(y_true, y_pred).ravel()\n",
        "    return (tp + tn) / (tp + tn + fp + fn)\n",
        "\n",
        "def custom_precision(y_true, y_pred):\n",
        "    tn, fp, fn, tp = confusion_matrix(y_true, y_pred).ravel()\n",
        "    return tp / (tp + fp) if (tp + fp) > 0 else 0.0\n",
        "\n",
        "def custom_recall(y_true, y_pred):\n",
        "    tn, fp, fn, tp = confusion_matrix(y_true, y_pred).ravel()\n",
        "    return tp / (tp + fn) if (tp + fn) > 0 else 0.0\n",
        "\n",
        "def custom_f1_score(y_true, y_pred):\n",
        "    precision = custom_precision(y_true, y_pred)\n",
        "    recall = custom_recall(y_true, y_pred)\n",
        "    return 2 * (precision * recall) / (precision + recall) if (precision + recall) > 0 else 0.0\n",
        "\n",
        "def custom_gmean(y_true, y_pred):\n",
        "    tn, fp, fn, tp = confusion_matrix(y_true, y_pred).ravel()\n",
        "    sensitivity = custom_recall(y_true, y_pred)\n",
        "    specificity = tn / (tn + fp) if (tn + fp) > 0 else 0.0\n",
        "    return np.sqrt(sensitivity * specificity)\n",
        "\n",
        "# --- Pipeline final con preprocesador y modelo ---\n",
        "model_pipeline = Pipeline(steps=[\n",
        "    ('preprocessor', preprocessor),\n",
        "    ('classifier', LogisticRegression(random_state=42, max_iter=1000))\n",
        "])\n",
        "\n",
        "# --- Configuración de la validación cruzada ---\n",
        "cv = RepeatedStratifiedKFold(n_splits=5, n_repeats=3, random_state=42)\n",
        "\n",
        "# Listas para guardar los resultados\n",
        "train_scores = {'accuracy': [], 'precision': [], 'recall': [], 'f1_score': [], 'gmean': []}\n",
        "val_scores = {'accuracy': [], 'precision': [], 'recall': [], 'f1_score': [], 'gmean': []}\n",
        "all_metrics = [custom_accuracy, custom_precision, custom_recall, custom_f1_score, custom_gmean]\n",
        "\n",
        "print(\"🚀 Iniciando el proceso de validación cruzada...\")\n",
        "\n",
        "# --- Bucle principal de entrenamiento ---\n",
        "for train_index, val_index in cv.split(X_train, y_train):\n",
        "    X_train_fold, X_val_fold = X_train.iloc[train_index], X_train.iloc[val_index]\n",
        "    y_train_fold, y_val_fold = y_train.iloc[train_index], y_train.iloc[val_index]\n",
        "\n",
        "    model_pipeline.fit(X_train_fold, y_train_fold)\n",
        "    y_train_pred = model_pipeline.predict(X_train_fold)\n",
        "    y_val_pred = model_pipeline.predict(X_val_fold)\n",
        "\n",
        "    for metric_name, func in zip(train_scores.keys(), all_metrics):\n",
        "        train_scores[metric_name].append(func(y_train_fold, y_train_pred))\n",
        "        val_scores[metric_name].append(func(y_val_fold, y_val_pred))\n",
        "\n",
        "print(\"✅ Proceso de validación cruzada completado.\")"
      ],
      "metadata": {
        "colab": {
          "base_uri": "https://localhost:8080/"
        },
        "id": "IjM8nQL6P1nX",
        "outputId": "025fe27b-e8a5-4b0f-cf0b-0a88f41a3ac0"
      },
      "execution_count": 21,
      "outputs": [
        {
          "output_type": "stream",
          "name": "stdout",
          "text": [
            "🚀 Iniciando el proceso de validación cruzada...\n",
            "✅ Proceso de validación cruzada completado.\n"
          ]
        }
      ]
    },
    {
      "cell_type": "markdown",
      "source": [
        "**Reporte de Métricas y Gráfica de Recall**"
      ],
      "metadata": {
        "id": "hZ4TkIURZ-8N"
      }
    },
    {
      "cell_type": "code",
      "source": [
        "import matplotlib.pyplot as plt\n",
        "import seaborn as sns\n",
        "\n",
        "# --- Imprimir resultados numéricos ---\n",
        "print(\"\\n--- Resultados Promedio de la Validación Cruzada ---\")\n",
        "print(f\"{'Métrica':<12} {'Train (Promedio ± DE)':<25} {'Validation (Promedio ± DE)':<25}\")\n",
        "print(\"=\"*70)\n",
        "for metric in train_scores.keys():\n",
        "    train_mean, train_std = np.mean(train_scores[metric]), np.std(train_scores[metric])\n",
        "    val_mean, val_std = np.mean(val_scores[metric]), np.std(val_scores[metric])\n",
        "    print(f\"{metric.capitalize():<12} {train_mean:.4f} ± {train_std:.4f} \\t\\t {val_mean:.4f} ± {val_std:.4f}\")\n",
        "\n",
        "# --- Generar diagrama de caja y bigotes ---\n",
        "plt.style.use('seaborn-v0_8-whitegrid')\n",
        "plt.figure(figsize=(10, 6))\n",
        "sns.boxplot(data=[train_scores['recall'], val_scores['recall']], palette=\"viridis\", width=0.4)\n",
        "plt.xticks([0, 1], ['Entrenamiento (Train)', 'Validación (Validation)'])\n",
        "plt.title('Distribución de la Métrica Recall en Validación Cruzada', fontsize=16, fontweight='bold')\n",
        "plt.ylabel('Recall Score', fontsize=12)\n",
        "plt.ylim(0, 1) # Asegurar que el eje Y vaya de 0 a 1\n",
        "plt.show()\n",
        "\n",
        "# --- Reflexión sobre sub/sobreentrenamiento ---\n",
        "print(\"\\n--- Reflexión: ¿Subentrenamiento o Sobreentrenamiento? ---\")\n",
        "print(\"El modelo muestra **indicios leves de sobreentrenamiento (overfitting)**.\")\n",
        "print(\"\\n**Justificación:**\")\n",
        "print(\"1. **Rendimiento Superior en Entrenamiento:** Las métricas promedio son consistentemente más altas en los datos de entrenamiento que en los de validación. Esto indica que el modelo se ajusta muy bien a los datos que ya ha visto.\")\n",
        "print(\"2. **Brecha de Generalización:** Existe una pequeña pero notable caída en el rendimiento cuando el modelo se enfrenta a datos nuevos (el conjunto de validación). Esta 'brecha' es la señal principal del sobreajuste.\")\n",
        "print(\"3. **No es Subentrenamiento:** Si fuera subentrenamiento, el modelo tendría un rendimiento bajo en AMBOS conjuntos (entrenamiento y validación), lo que claramente no es el caso aquí.\")"
      ],
      "metadata": {
        "colab": {
          "base_uri": "https://localhost:8080/",
          "height": 916
        },
        "id": "mWgF7avmP7I8",
        "outputId": "1659740c-d09d-4787-9b21-0e855e4a8fc0"
      },
      "execution_count": 22,
      "outputs": [
        {
          "output_type": "stream",
          "name": "stdout",
          "text": [
            "\n",
            "--- Resultados Promedio de la Validación Cruzada ---\n",
            "Métrica      Train (Promedio ± DE)     Validation (Promedio ± DE)\n",
            "======================================================================\n",
            "Accuracy     0.7875 ± 0.0081 \t\t 0.7455 ± 0.0226\n",
            "Precision    0.6957 ± 0.0183 \t\t 0.6047 ± 0.0658\n",
            "Recall       0.5190 ± 0.0189 \t\t 0.4667 ± 0.0706\n",
            "F1_score     0.5943 ± 0.0168 \t\t 0.5217 ± 0.0480\n",
            "Gmean        0.6843 ± 0.0130 \t\t 0.6326 ± 0.0416\n"
          ]
        },
        {
          "output_type": "display_data",
          "data": {
            "text/plain": [
              "<Figure size 1000x600 with 1 Axes>"
            ],
            "image/png": "[encoded data removed]"
          },
          "metadata": {}
        },
        {
          "output_type": "stream",
          "name": "stdout",
          "text": [
            "\n",
            "--- Reflexión: ¿Subentrenamiento o Sobreentrenamiento? ---\n",
            "El modelo muestra **indicios leves de sobreentrenamiento (overfitting)**.\n",
            "\n",
            "**Justificación:**\n",
            "1. **Rendimiento Superior en Entrenamiento:** Las métricas promedio son consistentemente más altas en los datos de entrenamiento que en los de validación. Esto indica que el modelo se ajusta muy bien a los datos que ya ha visto.\n",
            "2. **Brecha de Generalización:** Existe una pequeña pero notable caída en el rendimiento cuando el modelo se enfrenta a datos nuevos (el conjunto de validación). Esta 'brecha' es la señal principal del sobreajuste.\n",
            "3. **No es Subentrenamiento:** Si fuera subentrenamiento, el modelo tendría un rendimiento bajo en AMBOS conjuntos (entrenamiento y validación), lo que claramente no es el caso aquí.\n"
          ]
        }
      ]
    },
    {
      "cell_type": "code",
      "source": [],
      "metadata": {
        "id": "khrXlyKCQAu3"
      },
      "execution_count": null,
      "outputs": []
    }
  ]
}