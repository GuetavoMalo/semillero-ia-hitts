{
  "nbformat": 4,
  "nbformat_minor": 0,
  "metadata": {
    "colab": {
      "provenance": [],
      "include_colab_link": true
    },
    "kernelspec": {
      "name": "python3",
      "display_name": "Python 3"
    },
    "language_info": {
      "name": "python"
    }
  },
  "cells": [
    {
      "cell_type": "markdown",
      "metadata": {
        "id": "view-in-github",
        "colab_type": "text"
      },
      "source": [
        "<a href=\"https://colab.research.google.com/github/GuetavoMalo/semillero-ia-hitts/blob/main/MaloBautistaGustavoAngel_Semana03.ipynb\" target=\"_parent\"><img src=\"https://colab.research.google.com/assets/colab-badge.svg\" alt=\"Open In Colab\"/></a>"
      ]
    },
    {
      "cell_type": "markdown",
      "source": [
        "#**Semillero Data & AI**\n",
        "\n",
        "##**Procesamiento de Lenguaje Natural (NLP)**\n",
        "###Prof. Fausto Velasco Atilano\n",
        "###**Clase 3 - Ejercicios Complementarios**\n",
        "### Iniciando el procesamiento con texto: tipos de datos de texto.\n",
        "\n",
        "\n"
      ],
      "metadata": {
        "id": "a-u2MSiFYLmT"
      }
    },
    {
      "cell_type": "markdown",
      "source": [
        "##**Cadena de caracteres (String)**"
      ],
      "metadata": {
        "id": "wpgrXL1nQ50n"
      }
    },
    {
      "cell_type": "markdown",
      "source": [
        "Para el procesamiento y análisis de documentos de texto, uno de los tipos de datos más usuales es la cadena de caracteres, o \"string\" por su nombre en inglés. Es común también en español referirnos a este tipo de datos simplemente como \"string\".\n",
        "\n",
        "La manera estándar de introducir una frase es mediante dobles comillas:\n",
        "\n"
      ],
      "metadata": {
        "id": "OR5_keKxcivo"
      }
    },
    {
      "cell_type": "code",
      "source": [
        "doc = \"Vine a Comala porque me dijeron que acá vivía mi padre, un tal Pedro Páramo. Mi madre me lo dijo.\"\n",
        "\n",
        "doc  # es un String (str)"
      ],
      "metadata": {
        "id": "PLAJI7eEPSBG",
        "outputId": "02610d7d-9410-4917-d930-48513721f95b",
        "colab": {
          "base_uri": "https://localhost:8080/",
          "height": 35
        }
      },
      "execution_count": 1,
      "outputs": [
        {
          "output_type": "execute_result",
          "data": {
            "text/plain": [
              "'Vine a Comala porque me dijeron que acá vivía mi padre, un tal Pedro Páramo. Mi madre me lo dijo.'"
            ],
            "application/vnd.google.colaboratory.intrinsic+json": {
              "type": "string"
            }
          },
          "metadata": {},
          "execution_count": 1
        }
      ]
    },
    {
      "cell_type": "code",
      "source": [
        "type(doc)   # Podemos verificar el tipo de dato de cualquier objeto de Python con esta función."
      ],
      "metadata": {
        "id": "Zar2O9_SvM2s",
        "outputId": "0f06152a-6198-4d19-cab5-362778e2e11d",
        "colab": {
          "base_uri": "https://localhost:8080/"
        }
      },
      "execution_count": 2,
      "outputs": [
        {
          "output_type": "execute_result",
          "data": {
            "text/plain": [
              "str"
            ]
          },
          "metadata": {},
          "execution_count": 2
        }
      ]
    },
    {
      "cell_type": "code",
      "source": [
        "doc[3]  # podemos tener acceso a cada caracter individual, los cuales están indexados a partir del primer caracter que incia con 0."
      ],
      "metadata": {
        "id": "ni5SrmKeTK9u",
        "outputId": "549249e3-05ce-48e3-d837-068fd9b1bea6",
        "colab": {
          "base_uri": "https://localhost:8080/",
          "height": 35
        }
      },
      "execution_count": 3,
      "outputs": [
        {
          "output_type": "execute_result",
          "data": {
            "text/plain": [
              "'e'"
            ],
            "application/vnd.google.colaboratory.intrinsic+json": {
              "type": "string"
            }
          },
          "metadata": {},
          "execution_count": 3
        }
      ]
    },
    {
      "cell_type": "code",
      "source": [
        "doc[:9]   # la notación de \":\" nos permite definir un rango, en este caso del índice 0 al 8 (9-1)."
      ],
      "metadata": {
        "id": "Pk1kR0CxTPBb",
        "outputId": "3afb3fa2-4ea6-47e1-dd77-de36c03518ea",
        "colab": {
          "base_uri": "https://localhost:8080/",
          "height": 35
        }
      },
      "execution_count": 4,
      "outputs": [
        {
          "output_type": "execute_result",
          "data": {
            "text/plain": [
              "'Vine a Co'"
            ],
            "application/vnd.google.colaboratory.intrinsic+json": {
              "type": "string"
            }
          },
          "metadata": {},
          "execution_count": 4
        }
      ]
    },
    {
      "cell_type": "code",
      "source": [
        "doc[-1]   # también podemos usar índices negativos..."
      ],
      "metadata": {
        "id": "NhfLhE6vTtzL",
        "outputId": "7de858fa-25d2-44ec-fde9-0537fc44eb3d",
        "colab": {
          "base_uri": "https://localhost:8080/",
          "height": 35
        }
      },
      "execution_count": 5,
      "outputs": [
        {
          "output_type": "execute_result",
          "data": {
            "text/plain": [
              "'.'"
            ],
            "application/vnd.google.colaboratory.intrinsic+json": {
              "type": "string"
            }
          },
          "metadata": {},
          "execution_count": 5
        }
      ]
    },
    {
      "cell_type": "code",
      "source": [
        "doc[-8:-1]"
      ],
      "metadata": {
        "id": "0bxgRDEqTh0d",
        "outputId": "1abfa024-db15-4dcc-fd2f-5a9dfd4a681c",
        "colab": {
          "base_uri": "https://localhost:8080/",
          "height": 35
        }
      },
      "execution_count": 6,
      "outputs": [
        {
          "output_type": "execute_result",
          "data": {
            "text/plain": [
              "'lo dijo'"
            ],
            "application/vnd.google.colaboratory.intrinsic+json": {
              "type": "string"
            }
          },
          "metadata": {},
          "execution_count": 6
        }
      ]
    },
    {
      "cell_type": "code",
      "source": [
        "len(doc) # podemos obtener el total de caracteres... reucerda que los espacios en blanco también son caracteres."
      ],
      "metadata": {
        "id": "N8ZVFBiZQ_Oh",
        "outputId": "1e460228-e38c-4fb8-f114-c79ed1620ad9",
        "colab": {
          "base_uri": "https://localhost:8080/"
        }
      },
      "execution_count": 7,
      "outputs": [
        {
          "output_type": "execute_result",
          "data": {
            "text/plain": [
              "97"
            ]
          },
          "metadata": {},
          "execution_count": 7
        }
      ]
    },
    {
      "cell_type": "code",
      "source": [
        "doc.lower()   # podemos transformar todo a minúsculas..."
      ],
      "metadata": {
        "id": "sz_8pGquRJp_",
        "outputId": "c57cb69b-3de5-43b4-d98d-b86956dc3f55",
        "colab": {
          "base_uri": "https://localhost:8080/",
          "height": 35
        }
      },
      "execution_count": 8,
      "outputs": [
        {
          "output_type": "execute_result",
          "data": {
            "text/plain": [
              "'vine a comala porque me dijeron que acá vivía mi padre, un tal pedro páramo. mi madre me lo dijo.'"
            ],
            "application/vnd.google.colaboratory.intrinsic+json": {
              "type": "string"
            }
          },
          "metadata": {},
          "execution_count": 8
        }
      ]
    },
    {
      "cell_type": "code",
      "source": [
        "doc.upper()    # o todo a mayúsculas."
      ],
      "metadata": {
        "id": "HjXi2prewvtq",
        "outputId": "d2a26af6-e8e1-426b-8522-b2847d54f38f",
        "colab": {
          "base_uri": "https://localhost:8080/",
          "height": 35
        }
      },
      "execution_count": 9,
      "outputs": [
        {
          "output_type": "execute_result",
          "data": {
            "text/plain": [
              "'VINE A COMALA PORQUE ME DIJERON QUE ACÁ VIVÍA MI PADRE, UN TAL PEDRO PÁRAMO. MI MADRE ME LO DIJO.'"
            ],
            "application/vnd.google.colaboratory.intrinsic+json": {
              "type": "string"
            }
          },
          "metadata": {},
          "execution_count": 9
        }
      ]
    },
    {
      "cell_type": "code",
      "source": [
        "# Podemos hacer algunas operaciones entre strings:\n",
        "\n",
        "x = \"Hola\"\n",
        "y = 'mundo'\n",
        "\n",
        "x + ' ' + y\n",
        "\n"
      ],
      "metadata": {
        "id": "iRc6BuW6VHsQ",
        "outputId": "875cb705-6eec-433c-c39b-9d2667382244",
        "colab": {
          "base_uri": "https://localhost:8080/",
          "height": 35
        }
      },
      "execution_count": 10,
      "outputs": [
        {
          "output_type": "execute_result",
          "data": {
            "text/plain": [
              "'Hola mundo'"
            ],
            "application/vnd.google.colaboratory.intrinsic+json": {
              "type": "string"
            }
          },
          "metadata": {},
          "execution_count": 10
        }
      ]
    },
    {
      "cell_type": "markdown",
      "source": [
        "También se pueden usar comillas sencillas para definir una cadena de caracteres o string:"
      ],
      "metadata": {
        "id": "JN2B1aqTxqNA"
      }
    },
    {
      "cell_type": "code",
      "source": [
        "w = '¡Buenos días, Señor Sol!'\n",
        "\n",
        "w"
      ],
      "metadata": {
        "id": "EZpRcL_wXWIe",
        "outputId": "c360a513-8def-46b7-e7be-216d6efe4c94",
        "colab": {
          "base_uri": "https://localhost:8080/",
          "height": 35
        }
      },
      "execution_count": 11,
      "outputs": [
        {
          "output_type": "execute_result",
          "data": {
            "text/plain": [
              "'¡Buenos días, Señor Sol!'"
            ],
            "application/vnd.google.colaboratory.intrinsic+json": {
              "type": "string"
            }
          },
          "metadata": {},
          "execution_count": 11
        }
      ]
    },
    {
      "cell_type": "markdown",
      "source": [
        "Sin embargo, si dentro del enunciado se requieren usar comillas sencillas, no podemos usarlas con el mismo tipo de comillas del string porque se genera un error de sintaxis.\n",
        "\n",
        "Así, en el caso de que el enunciado requiera el uso de comillas, se puede proceder de cualquiera de las formas que se muestran en el ejemplo siguiente:"
      ],
      "metadata": {
        "id": "4dYulpkEyVU5"
      }
    },
    {
      "cell_type": "code",
      "source": [
        "t1 = \"Y me preguntó, '¿qué te pasó?', a lo cual no supe contestar.\"   # intenta ejecutar esta instrucción usando solamente comillas sencillas\"\n",
        "\n",
        "t2 = 'Y me preguntó, \"¿qué te pasó?\", a lo cual no supe contestar.'\n",
        "\n",
        "t3 = 'Y me preguntó, \\'¿qué te pasó?\\', a lo cual no supe contestar.'\n",
        "\n",
        "print(t1)\n",
        "print(t2)\n",
        "print(t3)"
      ],
      "metadata": {
        "id": "GzGKKwolx--C",
        "outputId": "0e5899cb-6dde-44fb-dce9-7ab3cae11476",
        "colab": {
          "base_uri": "https://localhost:8080/"
        }
      },
      "execution_count": 12,
      "outputs": [
        {
          "output_type": "stream",
          "name": "stdout",
          "text": [
            "Y me preguntó, '¿qué te pasó?', a lo cual no supe contestar.\n",
            "Y me preguntó, \"¿qué te pasó?\", a lo cual no supe contestar.\n",
            "Y me preguntó, '¿qué te pasó?', a lo cual no supe contestar.\n"
          ]
        }
      ]
    },
    {
      "cell_type": "markdown",
      "source": [
        "##**Listas y segmentación con Python: split(), strip()**"
      ],
      "metadata": {
        "id": "LSKexgxmtjYO"
      }
    },
    {
      "cell_type": "markdown",
      "source": [
        "Puedes encontrar más información en la documentación de los métodos \"split()\" y \"strip()\" de Python, en las siguientes ligas:\n",
        "\n",
        "https://python-reference.readthedocs.io/en/latest/docs/str/split.html\n",
        "\n",
        "https://python-reference.readthedocs.io/en/latest/docs/str/strip.html\n",
        "\n",
        "Al aplicar el método \"split()\" obtenemos una lista de strings y al aplicar el método \"strip()\" obtenemos un string."
      ],
      "metadata": {
        "id": "tTwXaC8QstX7"
      }
    },
    {
      "cell_type": "code",
      "execution_count": 13,
      "metadata": {
        "id": "TiAucTxYltCW",
        "outputId": "35fe6b55-5036-43ff-8b44-4e7e5bfe21ce",
        "colab": {
          "base_uri": "https://localhost:8080/"
        }
      },
      "outputs": [
        {
          "output_type": "stream",
          "name": "stdout",
          "text": [
            "Aquel caracol\n",
            "Que va por el sol\n",
            "En cada ramita\n",
            "Lleva una flor.\n",
            "\n",
            "Que viva la gracia\n",
            "Que viva el amor\n",
            "Que viva la gracia\n",
            "De aquel caracol.\n"
          ]
        }
      ],
      "source": [
        "# Definamos el siguiente string con el siguiente poema infantil-\n",
        "# Observa que estamos utilizando el salto de línea (new line) \"\\n\":\n",
        "\n",
        "doc = \"Aquel caracol\\nQue va por el sol\\nEn cada ramita\\nLleva una flor.\\n\\nQue viva la gracia\\nQue viva el amor\\nQue viva la gracia\\nDe aquel caracol.\"\n",
        "\n",
        "print(doc)\n"
      ]
    },
    {
      "cell_type": "code",
      "source": [
        "len(doc)"
      ],
      "metadata": {
        "id": "4MY62a1elLbW",
        "outputId": "afe49f3f-94f6-4efd-c30f-1513e62acd71",
        "colab": {
          "base_uri": "https://localhost:8080/"
        }
      },
      "execution_count": 14,
      "outputs": [
        {
          "output_type": "execute_result",
          "data": {
            "text/plain": [
              "136"
            ]
          },
          "metadata": {},
          "execution_count": 14
        }
      ]
    },
    {
      "cell_type": "code",
      "source": [
        "milista = doc.split()   # Como valor predeterminado separa por espacios en blanco \" \" y saltos de línea \"\\n\".\n",
        "\n",
        "milista  # Ahora tenemos una lista, la cual se identifica por las corcheas al inicio y al final de la lista de strings."
      ],
      "metadata": {
        "id": "cKY0uWwIpNJy",
        "outputId": "3aecfeaa-0fa3-47a5-f417-3f77f82dd2a9",
        "colab": {
          "base_uri": "https://localhost:8080/"
        }
      },
      "execution_count": 15,
      "outputs": [
        {
          "output_type": "execute_result",
          "data": {
            "text/plain": [
              "['Aquel',\n",
              " 'caracol',\n",
              " 'Que',\n",
              " 'va',\n",
              " 'por',\n",
              " 'el',\n",
              " 'sol',\n",
              " 'En',\n",
              " 'cada',\n",
              " 'ramita',\n",
              " 'Lleva',\n",
              " 'una',\n",
              " 'flor.',\n",
              " 'Que',\n",
              " 'viva',\n",
              " 'la',\n",
              " 'gracia',\n",
              " 'Que',\n",
              " 'viva',\n",
              " 'el',\n",
              " 'amor',\n",
              " 'Que',\n",
              " 'viva',\n",
              " 'la',\n",
              " 'gracia',\n",
              " 'De',\n",
              " 'aquel',\n",
              " 'caracol.']"
            ]
          },
          "metadata": {},
          "execution_count": 15
        }
      ]
    },
    {
      "cell_type": "code",
      "source": [
        "len(milista)   # Este es el total de palabras (tokens) que tenemos en esta lista."
      ],
      "metadata": {
        "id": "zqZ92mxylPgW",
        "outputId": "9d57c0d3-2536-4a44-bcf6-0f34de38639e",
        "colab": {
          "base_uri": "https://localhost:8080/"
        }
      },
      "execution_count": 16,
      "outputs": [
        {
          "output_type": "execute_result",
          "data": {
            "text/plain": [
              "28"
            ]
          },
          "metadata": {},
          "execution_count": 16
        }
      ]
    },
    {
      "cell_type": "code",
      "source": [
        "milista[1]    # Y podemos accesar cada palabra (token) de la lista con el índice correspondiente."
      ],
      "metadata": {
        "id": "iSfA7qLh0cus",
        "outputId": "4018ca43-6e06-43d5-a608-7f56a7f0e18b",
        "colab": {
          "base_uri": "https://localhost:8080/",
          "height": 35
        }
      },
      "execution_count": 17,
      "outputs": [
        {
          "output_type": "execute_result",
          "data": {
            "text/plain": [
              "'caracol'"
            ],
            "application/vnd.google.colaboratory.intrinsic+json": {
              "type": "string"
            }
          },
          "metadata": {},
          "execution_count": 17
        }
      ]
    },
    {
      "cell_type": "code",
      "source": [
        "type(milista)   # Recuerda que también puedes verificar el tipo de dato con esta instrucción."
      ],
      "metadata": {
        "id": "d5ngMgfYvf80",
        "outputId": "60b52e4e-5bf6-4429-dbb5-345be9e91bcf",
        "colab": {
          "base_uri": "https://localhost:8080/"
        }
      },
      "execution_count": 18,
      "outputs": [
        {
          "output_type": "execute_result",
          "data": {
            "text/plain": [
              "list"
            ]
          },
          "metadata": {},
          "execution_count": 18
        }
      ]
    },
    {
      "cell_type": "markdown",
      "source": [
        "Regresando con la cadena de caracteres (string) y para entender mejor la manera en que puede aplicarse el método \"split()\", podemos aplicar las siguientes variantes:"
      ],
      "metadata": {
        "id": "uhn6OLCB8R5i"
      }
    },
    {
      "cell_type": "code",
      "source": [
        "doc.split('\\n')   # Si segmentamos por salto de línea de manera explícita, los espacios en blanco ya no se toman en cuenta."
      ],
      "metadata": {
        "id": "XEKP3CmZqOFU",
        "outputId": "928d27d3-c8b2-4e05-f7f3-2100441e118b",
        "colab": {
          "base_uri": "https://localhost:8080/"
        }
      },
      "execution_count": 19,
      "outputs": [
        {
          "output_type": "execute_result",
          "data": {
            "text/plain": [
              "['Aquel caracol',\n",
              " 'Que va por el sol',\n",
              " 'En cada ramita',\n",
              " 'Lleva una flor.',\n",
              " '',\n",
              " 'Que viva la gracia',\n",
              " 'Que viva el amor',\n",
              " 'Que viva la gracia',\n",
              " 'De aquel caracol.']"
            ]
          },
          "metadata": {},
          "execution_count": 19
        }
      ]
    },
    {
      "cell_type": "code",
      "source": [
        "doc.split(' ')    # O bien separar solamente por espacios en blanco."
      ],
      "metadata": {
        "id": "0v-24syFqtXa",
        "outputId": "79fb45cf-181e-4675-fd4d-204df84f148c",
        "colab": {
          "base_uri": "https://localhost:8080/"
        }
      },
      "execution_count": 20,
      "outputs": [
        {
          "output_type": "execute_result",
          "data": {
            "text/plain": [
              "['Aquel',\n",
              " 'caracol\\nQue',\n",
              " 'va',\n",
              " 'por',\n",
              " 'el',\n",
              " 'sol\\nEn',\n",
              " 'cada',\n",
              " 'ramita\\nLleva',\n",
              " 'una',\n",
              " 'flor.\\n\\nQue',\n",
              " 'viva',\n",
              " 'la',\n",
              " 'gracia\\nQue',\n",
              " 'viva',\n",
              " 'el',\n",
              " 'amor\\nQue',\n",
              " 'viva',\n",
              " 'la',\n",
              " 'gracia\\nDe',\n",
              " 'aquel',\n",
              " 'caracol.']"
            ]
          },
          "metadata": {},
          "execution_count": 20
        }
      ]
    },
    {
      "cell_type": "code",
      "source": [
        "doc.split('el')   # Pero en general podemos separar con respecto a cualquier caracter o cadena de caracteres que indiquemos..."
      ],
      "metadata": {
        "id": "dvTY6ogIqzeD",
        "outputId": "b038b043-c52b-4546-82cf-bfd45284d2ac",
        "colab": {
          "base_uri": "https://localhost:8080/"
        }
      },
      "execution_count": 21,
      "outputs": [
        {
          "output_type": "execute_result",
          "data": {
            "text/plain": [
              "['Aqu',\n",
              " ' caracol\\nQue va por ',\n",
              " ' sol\\nEn cada ramita\\nLleva una flor.\\n\\nQue viva la gracia\\nQue viva ',\n",
              " ' amor\\nQue viva la gracia\\nDe aqu',\n",
              " ' caracol.']"
            ]
          },
          "metadata": {},
          "execution_count": 21
        }
      ]
    },
    {
      "cell_type": "code",
      "source": [
        "doc.split(' ', 4)   # Se puede indicar un máximo de separaciones a aplicar con el separador en cuestión."
      ],
      "metadata": {
        "id": "sOPynldBrsI1",
        "outputId": "78efbc1b-46d7-4122-c10e-e36e95f4184e",
        "colab": {
          "base_uri": "https://localhost:8080/"
        }
      },
      "execution_count": 22,
      "outputs": [
        {
          "output_type": "execute_result",
          "data": {
            "text/plain": [
              "['Aquel',\n",
              " 'caracol\\nQue',\n",
              " 'va',\n",
              " 'por',\n",
              " 'el sol\\nEn cada ramita\\nLleva una flor.\\n\\nQue viva la gracia\\nQue viva el amor\\nQue viva la gracia\\nDe aquel caracol.']"
            ]
          },
          "metadata": {},
          "execution_count": 22
        }
      ]
    },
    {
      "cell_type": "code",
      "source": [
        "doc.upper().split()    # También podemos hacer algunas combinaciones de métodos..."
      ],
      "metadata": {
        "id": "PEieh9Kk6uTz",
        "outputId": "67e2750f-2268-4b7b-8705-6ec6dd19b44f",
        "colab": {
          "base_uri": "https://localhost:8080/"
        }
      },
      "execution_count": 23,
      "outputs": [
        {
          "output_type": "execute_result",
          "data": {
            "text/plain": [
              "['AQUEL',\n",
              " 'CARACOL',\n",
              " 'QUE',\n",
              " 'VA',\n",
              " 'POR',\n",
              " 'EL',\n",
              " 'SOL',\n",
              " 'EN',\n",
              " 'CADA',\n",
              " 'RAMITA',\n",
              " 'LLEVA',\n",
              " 'UNA',\n",
              " 'FLOR.',\n",
              " 'QUE',\n",
              " 'VIVA',\n",
              " 'LA',\n",
              " 'GRACIA',\n",
              " 'QUE',\n",
              " 'VIVA',\n",
              " 'EL',\n",
              " 'AMOR',\n",
              " 'QUE',\n",
              " 'VIVA',\n",
              " 'LA',\n",
              " 'GRACIA',\n",
              " 'DE',\n",
              " 'AQUEL',\n",
              " 'CARACOL.']"
            ]
          },
          "metadata": {},
          "execution_count": 23
        }
      ]
    },
    {
      "cell_type": "markdown",
      "source": [
        "También podemos eliminar espacios en blanco al inicio o al final de una frase, lo cual es un caso muy común cuando se analizan documentos de texto."
      ],
      "metadata": {
        "id": "w-7I7M4U2GjY"
      }
    },
    {
      "cell_type": "code",
      "source": [
        "# Se pueden omitir espacios en blanco al principio o final de un string, mientras\n",
        "# no haya algún tipo de caracter antes o después:\n",
        "\n",
        "txt = \"                    Hola      mundo      .   \"\n",
        "\n",
        "x = txt.strip(' ')"
      ],
      "metadata": {
        "id": "BVbQwo-R8kC0"
      },
      "execution_count": 24,
      "outputs": []
    },
    {
      "cell_type": "code",
      "source": [
        "txt    # string original"
      ],
      "metadata": {
        "id": "YN9I8t9o2ZcL",
        "outputId": "9d8b4fbd-d8c3-40c1-e2da-2cbe9e04a259",
        "colab": {
          "base_uri": "https://localhost:8080/",
          "height": 35
        }
      },
      "execution_count": 26,
      "outputs": [
        {
          "output_type": "execute_result",
          "data": {
            "text/plain": [
              "'                    Hola      mundo      .   '"
            ],
            "application/vnd.google.colaboratory.intrinsic+json": {
              "type": "string"
            }
          },
          "metadata": {},
          "execution_count": 26
        }
      ]
    },
    {
      "cell_type": "code",
      "source": [
        "x   # se omiten los espacios en blanco, pero solo al inicio y al final del string."
      ],
      "metadata": {
        "id": "7DehZZXz2bMk",
        "outputId": "ae95bc06-544d-4f25-b3f1-58770db09c92",
        "colab": {
          "base_uri": "https://localhost:8080/",
          "height": 35
        }
      },
      "execution_count": 27,
      "outputs": [
        {
          "output_type": "execute_result",
          "data": {
            "text/plain": [
              "'Hola      mundo      .'"
            ],
            "application/vnd.google.colaboratory.intrinsic+json": {
              "type": "string"
            }
          },
          "metadata": {},
          "execution_count": 27
        }
      ]
    },
    {
      "cell_type": "code",
      "source": [
        "type(x)    # En este caso tenemos un solo string."
      ],
      "metadata": {
        "id": "PE9q4LWFpd0k",
        "outputId": "a5f82a95-f131-4793-ca52-fbd28e28edf5",
        "colab": {
          "base_uri": "https://localhost:8080/"
        }
      },
      "execution_count": 28,
      "outputs": [
        {
          "output_type": "execute_result",
          "data": {
            "text/plain": [
              "str"
            ]
          },
          "metadata": {},
          "execution_count": 28
        }
      ]
    },
    {
      "cell_type": "code",
      "source": [
        "txt.find('o')   # Nos regresa el índice de la primera aparición del caracter indicado."
      ],
      "metadata": {
        "id": "ifpJoFEF_8y-",
        "outputId": "c4a08198-5495-400f-94a8-5768d63c340e",
        "colab": {
          "base_uri": "https://localhost:8080/"
        }
      },
      "execution_count": 29,
      "outputs": [
        {
          "output_type": "execute_result",
          "data": {
            "text/plain": [
              "21"
            ]
          },
          "metadata": {},
          "execution_count": 29
        }
      ]
    },
    {
      "cell_type": "code",
      "source": [
        "\n",
        "'!!¡!¡¡hola¡¡¡!!!¡!!!'.strip('¡!')    # puedes indicar caracteres que se irán quitando tanto del inicio como del final de manera iterativa."
      ],
      "metadata": {
        "id": "Uyx1sSor_HU2",
        "outputId": "3e66e885-107a-411f-d30b-e3b87e2d32d9",
        "colab": {
          "base_uri": "https://localhost:8080/",
          "height": 35
        }
      },
      "execution_count": 30,
      "outputs": [
        {
          "output_type": "execute_result",
          "data": {
            "text/plain": [
              "'hola'"
            ],
            "application/vnd.google.colaboratory.intrinsic+json": {
              "type": "string"
            }
          },
          "metadata": {},
          "execution_count": 30
        }
      ]
    },
    {
      "cell_type": "markdown",
      "source": [
        "###También tenemos el método \"splitlines()\" para separar por saltos de línea. Veamos un ejemplo:"
      ],
      "metadata": {
        "id": "qbbcKTVC2heS"
      }
    },
    {
      "cell_type": "code",
      "source": [
        "txt ='Hola mundo de terrícolas\\nHemos llegado a visitarlos\\nSaludos\\n'\n",
        "\n",
        "# Observa la diferencia entre ambas salidas:\n",
        "\n",
        "print(txt)\n",
        "\n",
        "txt"
      ],
      "metadata": {
        "id": "5-CjUi6318lu",
        "outputId": "34b01899-d9ab-47e8-850f-9d835d6dff82",
        "colab": {
          "base_uri": "https://localhost:8080/",
          "height": 103
        }
      },
      "execution_count": 31,
      "outputs": [
        {
          "output_type": "stream",
          "name": "stdout",
          "text": [
            "Hola mundo de terrícolas\n",
            "Hemos llegado a visitarlos\n",
            "Saludos\n",
            "\n"
          ]
        },
        {
          "output_type": "execute_result",
          "data": {
            "text/plain": [
              "'Hola mundo de terrícolas\\nHemos llegado a visitarlos\\nSaludos\\n'"
            ],
            "application/vnd.google.colaboratory.intrinsic+json": {
              "type": "string"
            }
          },
          "metadata": {},
          "execution_count": 31
        }
      ]
    },
    {
      "cell_type": "code",
      "source": [
        "print('Separando por espacios en blanco y saltos de línea con split:\\n\\t', txt.split())\n",
        "\n",
        "print('\\nSeparando solo por saltos de línea con splitlines:\\n\\t', txt.splitlines())"
      ],
      "metadata": {
        "id": "TydKZ7kP3KzS",
        "outputId": "83fd48e5-a888-4361-e70a-73d4122469fa",
        "colab": {
          "base_uri": "https://localhost:8080/"
        }
      },
      "execution_count": 32,
      "outputs": [
        {
          "output_type": "stream",
          "name": "stdout",
          "text": [
            "Separando por espacios en blanco y saltos de línea con split:\n",
            "\t ['Hola', 'mundo', 'de', 'terrícolas', 'Hemos', 'llegado', 'a', 'visitarlos', 'Saludos']\n",
            "\n",
            "Separando solo por saltos de línea con splitlines:\n",
            "\t ['Hola mundo de terrícolas', 'Hemos llegado a visitarlos', 'Saludos']\n"
          ]
        }
      ]
    },
    {
      "cell_type": "markdown",
      "source": [
        "##**replace()**\n",
        "\n",
        "Recuerda siempre consultar la documentación correspondiente para obtener más información de cualquier función o método.\n",
        "\n",
        "En particular para el método \"replace\" de una cadena de caracteres (String) puedes consultar esta documentación:\n",
        "\n",
        "https://www.w3schools.com/python/ref_string_replace.asp"
      ],
      "metadata": {
        "id": "4do2UxqE50Hg"
      }
    },
    {
      "cell_type": "code",
      "source": [
        "doc.replace('a', 'A').split()    # podemos sustituir un string por otro que se indique en una cadena de caracteres."
      ],
      "metadata": {
        "id": "v7HWz5D5BI5z",
        "outputId": "0a598be4-7e7a-475c-f3e2-890320ef3ef8",
        "colab": {
          "base_uri": "https://localhost:8080/"
        }
      },
      "execution_count": 33,
      "outputs": [
        {
          "output_type": "execute_result",
          "data": {
            "text/plain": [
              "['Aquel',\n",
              " 'cArAcol',\n",
              " 'Que',\n",
              " 'vA',\n",
              " 'por',\n",
              " 'el',\n",
              " 'sol',\n",
              " 'En',\n",
              " 'cAdA',\n",
              " 'rAmitA',\n",
              " 'LlevA',\n",
              " 'unA',\n",
              " 'flor.',\n",
              " 'Que',\n",
              " 'vivA',\n",
              " 'lA',\n",
              " 'grAciA',\n",
              " 'Que',\n",
              " 'vivA',\n",
              " 'el',\n",
              " 'Amor',\n",
              " 'Que',\n",
              " 'vivA',\n",
              " 'lA',\n",
              " 'grAciA',\n",
              " 'De',\n",
              " 'Aquel',\n",
              " 'cArAcol.']"
            ]
          },
          "metadata": {},
          "execution_count": 33
        }
      ]
    },
    {
      "cell_type": "markdown",
      "source": [
        "##**join()**\n",
        "\n",
        "En un String podemos unir los elementos indicados en su argumento mediante el string indicado.\n",
        "\n",
        "Este método nos será más útil al aplicarlo a una lista. Veamos algunos ejemplos:[texto del enlace](https://)\n"
      ],
      "metadata": {
        "id": "RVnN-MzP6bSy"
      }
    },
    {
      "cell_type": "code",
      "source": [
        "txt = 'Hola'   # Podemos aplicar el método a un String donde cada caracter del argumento \"Hola\"\n",
        "               # se une con el string o caracter indicado entre las comillas.\n",
        "'-'.join(txt)"
      ],
      "metadata": {
        "id": "vHwDuqjnCo4Q",
        "outputId": "d9812b97-a134-40f1-99f6-8a2b8195539a",
        "colab": {
          "base_uri": "https://localhost:8080/",
          "height": 35
        }
      },
      "execution_count": 34,
      "outputs": [
        {
          "output_type": "execute_result",
          "data": {
            "text/plain": [
              "'H-o-l-a'"
            ],
            "application/vnd.google.colaboratory.intrinsic+json": {
              "type": "string"
            }
          },
          "metadata": {},
          "execution_count": 34
        }
      ]
    },
    {
      "cell_type": "code",
      "source": [
        "# Sin embargo, se obtienen resultados más útiles con otro tipo de datos, como una lista de strings:\n",
        "\n",
        "unalista = ['Mucha','luz','es','como','mucha','sombra','no','deja','ver','Octavio','Paz']\n",
        "unalista"
      ],
      "metadata": {
        "id": "ypBBtNuRC0R3",
        "outputId": "156c9f7c-5f95-4f21-a604-b11a0a30c28b",
        "colab": {
          "base_uri": "https://localhost:8080/"
        }
      },
      "execution_count": 35,
      "outputs": [
        {
          "output_type": "execute_result",
          "data": {
            "text/plain": [
              "['Mucha',\n",
              " 'luz',\n",
              " 'es',\n",
              " 'como',\n",
              " 'mucha',\n",
              " 'sombra',\n",
              " 'no',\n",
              " 'deja',\n",
              " 'ver',\n",
              " 'Octavio',\n",
              " 'Paz']"
            ]
          },
          "metadata": {},
          "execution_count": 35
        }
      ]
    },
    {
      "cell_type": "code",
      "source": [
        "u = ' '.join(unalista)   # Y podemos conjuntar ahora los elementos de la lista de strings separándolos con un espacio en blanco,\n",
        "                         # para obtener un solo string.\n",
        "\n",
        "u    # string"
      ],
      "metadata": {
        "id": "SZ0jC9IOEmlD",
        "outputId": "5ee203d9-841d-4e44-e3aa-6d794a12f6a4",
        "colab": {
          "base_uri": "https://localhost:8080/",
          "height": 35
        }
      },
      "execution_count": 36,
      "outputs": [
        {
          "output_type": "execute_result",
          "data": {
            "text/plain": [
              "'Mucha luz es como mucha sombra no deja ver Octavio Paz'"
            ],
            "application/vnd.google.colaboratory.intrinsic+json": {
              "type": "string"
            }
          },
          "metadata": {},
          "execution_count": 36
        }
      ]
    },
    {
      "cell_type": "markdown",
      "source": [
        "##**find() y findall()**\n",
        "\n",
        "Estos métodos encuentran un patrón o patrones de caracteres indicados.\n",
        "\n",
        "https://pandas.pydata.org/docs/reference/api/pandas.Series.str.find.html\n",
        "\n",
        "https://pandas.pydata.org/docs/reference/api/pandas.Series.str.findall.html"
      ],
      "metadata": {
        "id": "Lru7zVMhVrvI"
      }
    },
    {
      "cell_type": "markdown",
      "source": [
        "###**También podemos usar el método find() en un String.**\n",
        "\n",
        "Veamos algún par de ejemplos, con la siguiente frase de Octavio Paz:"
      ],
      "metadata": {
        "id": "e0G4Nfabxwgl"
      }
    },
    {
      "cell_type": "code",
      "source": [
        "op = 'Mucha luz es como mucha sombra, no deja ver.'"
      ],
      "metadata": {
        "id": "sA9esJWFx9yz"
      },
      "execution_count": 37,
      "outputs": []
    },
    {
      "cell_type": "code",
      "source": [
        "op.find('mucha')    # Recuerda que mayúsculas y minúsculas son caracteres diferentes."
      ],
      "metadata": {
        "id": "sW4GowZnzwvC",
        "outputId": "33e6798d-e610-4813-f8e8-a9600540be9a",
        "colab": {
          "base_uri": "https://localhost:8080/"
        }
      },
      "execution_count": 38,
      "outputs": [
        {
          "output_type": "execute_result",
          "data": {
            "text/plain": [
              "18"
            ]
          },
          "metadata": {},
          "execution_count": 38
        }
      ]
    },
    {
      "cell_type": "code",
      "source": [
        "op.lower().find('mucha')"
      ],
      "metadata": {
        "id": "fWMVQ4u1y2eW",
        "outputId": "45df14d5-4e2d-409c-bcc2-e682d625ee01",
        "colab": {
          "base_uri": "https://localhost:8080/"
        }
      },
      "execution_count": 39,
      "outputs": [
        {
          "output_type": "execute_result",
          "data": {
            "text/plain": [
              "0"
            ]
          },
          "metadata": {},
          "execution_count": 39
        }
      ]
    },
    {
      "cell_type": "code",
      "source": [
        "op.lower().find('mucha', 1)   # Si deseamos encontrar la segunda coincidencia de \"mucha\", en este caso\n",
        "                              # debemos realizar la búsqueda a partir del índice 1 y no del 0."
      ],
      "metadata": {
        "id": "Bod4pdVp0J1z",
        "outputId": "98be9c87-ea03-41f4-8e2b-fede2ead66b1",
        "colab": {
          "base_uri": "https://localhost:8080/"
        }
      },
      "execution_count": 40,
      "outputs": [
        {
          "output_type": "execute_result",
          "data": {
            "text/plain": [
              "18"
            ]
          },
          "metadata": {},
          "execution_count": 40
        }
      ]
    },
    {
      "cell_type": "code",
      "source": [
        "op.lower().rfind('mucha')     # O bien, podemos realizar la búsqueda en orden inverso: \"reverse find\"."
      ],
      "metadata": {
        "id": "v9RVhZGJzPKf",
        "outputId": "39765d3e-84a8-48f6-cfb2-a37d88e4892e",
        "colab": {
          "base_uri": "https://localhost:8080/"
        }
      },
      "execution_count": 41,
      "outputs": [
        {
          "output_type": "execute_result",
          "data": {
            "text/plain": [
              "18"
            ]
          },
          "metadata": {},
          "execution_count": 41
        }
      ]
    },
    {
      "cell_type": "markdown",
      "source": [
        "##**Podemos separar una oración con respecto a sus palabras, caracteres especiales y signos de puntuación.**\n",
        "\n",
        "### Por ejemplo:"
      ],
      "metadata": {
        "id": "xgNZ2YWyhpVz"
      }
    },
    {
      "cell_type": "code",
      "source": [
        "import re"
      ],
      "metadata": {
        "id": "OhwA8acrjH9o"
      },
      "execution_count": 42,
      "outputs": []
    },
    {
      "cell_type": "code",
      "source": [
        "X = \"-¿Qué eres? -Definirse es limitarse.\""
      ],
      "metadata": {
        "id": "GGYpIB6ihqdC"
      },
      "execution_count": 43,
      "outputs": []
    },
    {
      "cell_type": "code",
      "source": [
        "x = re.split(r' ', X)  # Separa con respecto a los espacios en blanco.\n",
        "x"
      ],
      "metadata": {
        "id": "7qGHUIx0hrtI",
        "outputId": "7adea091-769f-40e8-a095-5c293c7183ba",
        "colab": {
          "base_uri": "https://localhost:8080/"
        }
      },
      "execution_count": 44,
      "outputs": [
        {
          "output_type": "execute_result",
          "data": {
            "text/plain": [
              "['-¿Qué', 'eres?', '-Definirse', 'es', 'limitarse.']"
            ]
          },
          "metadata": {},
          "execution_count": 44
        }
      ]
    },
    {
      "cell_type": "code",
      "source": [
        "# O bien, si tenemos una frase en dos renglones:\n",
        "X = \"\"\"-¿Qué eres?\n",
        "-Definirse es limitarse. Lao-Tse\"\"\""
      ],
      "metadata": {
        "id": "jY92eEWFhrpg"
      },
      "execution_count": null,
      "outputs": []
    },
    {
      "cell_type": "code",
      "source": [
        "x1 = re.split(r' ', X)  # Separa con respecto a los espacios en blanco.\n",
        "x2 = re.split(r'[\\n]', X)  # salto de línea.\n",
        "x3 = re.split(r'[ \\n]', X)  # espacios en blanco o salto de línea.\n",
        "x4 = re.split(r'[-]', X)  # por el caracter \"-\" ... agrega un caracter vacío...\n",
        "x5 = re.split(r'[ \\n-]', X)\n",
        "x6 = re.split(r'\\W+', X)   # separamos con respecto a todo lo que no sea palabra: espacios en blanco, \"-\", signos de interrogación, el punto y seguido, en este caso.\n",
        "\n",
        "x7 = re.findall(r'\\w+', X)  # ... ahora sí, haciendo la búsqueda con respecto a las palabras :)\n",
        "\n",
        "print('1:',x1)\n",
        "print('2 ',x2)\n",
        "print('3 ',x3)\n",
        "print('4 ',x4)\n",
        "print('5 ',x5)\n",
        "print('6 ',x6)\n",
        "print('7 ',x7)"
      ],
      "metadata": {
        "id": "Qr0VPDjvh4c-",
        "outputId": "e92b5a76-e69c-4f10-ef89-7670461db09d",
        "colab": {
          "base_uri": "https://localhost:8080/"
        }
      },
      "execution_count": 45,
      "outputs": [
        {
          "output_type": "stream",
          "name": "stdout",
          "text": [
            "1: ['-¿Qué', 'eres?', '-Definirse', 'es', 'limitarse.']\n",
            "2  ['-¿Qué eres? -Definirse es limitarse.']\n",
            "3  ['-¿Qué', 'eres?', '-Definirse', 'es', 'limitarse.']\n",
            "4  ['', '¿Qué eres? ', 'Definirse es limitarse.']\n",
            "5  ['', '¿Qué', 'eres?', '', 'Definirse', 'es', 'limitarse.']\n",
            "6  ['', 'Qué', 'eres', 'Definirse', 'es', 'limitarse', '']\n",
            "7  ['Qué', 'eres', 'Definirse', 'es', 'limitarse']\n"
          ]
        }
      ]
    },
    {
      "cell_type": "markdown",
      "source": [
        "### Veamos un ejemplo estándar para el caso del idioma inglés:"
      ],
      "metadata": {
        "id": "WbDTDpTfiD7K"
      }
    },
    {
      "cell_type": "code",
      "source": [
        "Y = \"To say 'I don't have time', is like saying, 'I don't want to'. -Lao-Tzu\""
      ],
      "metadata": {
        "id": "bo63NR8vh4Y_"
      },
      "execution_count": 46,
      "outputs": []
    },
    {
      "cell_type": "code",
      "source": [
        "y1 = re.findall(r\"\\w+\", Y)  # Se tiene el inconveniente de que \"don't\" quedó separado, lo mismo que el nombre de Lao-Tzu.\n",
        "y2 = re.findall(r\"\\w+|\\S\\w*\", Y)  # primero busca palabras, de lo contrario todo lo que no sea espacio en blanco, seguido tal vez de palabras.\n",
        "y3 = re.findall(r\"\\w+(?:['-]\\w+)*\", Y) # Si no agregamos \"?:\" no se obtiene lo deseado, ya que los paréntesis () tienen como segunda función\n",
        "                                       # buscar lo que está dentro, haciendo match con lo de afuera y una vez localizado solo extrae lo de adentro.\n",
        "                                       # Así, esta última instrucción es la que extrae como tokens las negaciones con sus contracciones\n",
        "                                       # y el nombre de Lao-Tzu, como una sola entidad.... Quita \"?:\" y observa lo que queda.\n",
        "\n",
        "print(y1)\n",
        "print(y2)\n",
        "print(y3)"
      ],
      "metadata": {
        "id": "XiVPnMQ6iKoL",
        "outputId": "bbefbcf3-d2f3-4ef3-e156-25fae75e6264",
        "colab": {
          "base_uri": "https://localhost:8080/"
        }
      },
      "execution_count": 47,
      "outputs": [
        {
          "output_type": "stream",
          "name": "stdout",
          "text": [
            "['To', 'say', 'I', 'don', 't', 'have', 'time', 'is', 'like', 'saying', 'I', 'don', 't', 'want', 'to', 'Lao', 'Tzu']\n",
            "['To', 'say', \"'I\", 'don', \"'t\", 'have', 'time', \"'\", ',', 'is', 'like', 'saying', ',', \"'I\", 'don', \"'t\", 'want', 'to', \"'\", '.', '-Lao', '-Tzu']\n",
            "['To', 'say', 'I', \"don't\", 'have', 'time', 'is', 'like', 'saying', 'I', \"don't\", 'want', 'to', 'Lao-Tzu']\n"
          ]
        }
      ]
    },
    {
      "cell_type": "markdown",
      "source": [
        "###**La combinación ?: con paréntesis redondos y findall**"
      ],
      "metadata": {
        "id": "WUJxzhoIiWGc"
      }
    },
    {
      "cell_type": "code",
      "source": [
        "re.findall(r\"\\w+(ing|ed)\", \"cat playing red\")   # El paréntesis introduce prioridad y por lo tanto inicia buscando lo que haga match\n",
        "                                         # con \"ing\" o con \"ed\", además de con lo que está afuera y una vez que lo encuentra,\n",
        "                                         # se termina y da como salida solo lo que encontró dentro del paréntesis.\n",
        "                                         # Si nada hace match dentro del paréntesis, regresa vacío."
      ],
      "metadata": {
        "id": "Z_yN8QWJia9Y",
        "outputId": "a5903880-014a-406a-bd7c-adfa5c1df022",
        "colab": {
          "base_uri": "https://localhost:8080/"
        }
      },
      "execution_count": 48,
      "outputs": [
        {
          "output_type": "execute_result",
          "data": {
            "text/plain": [
              "['ing', 'ed']"
            ]
          },
          "metadata": {},
          "execution_count": 48
        }
      ]
    },
    {
      "cell_type": "code",
      "source": [
        "re.findall(r\"\\w+(?:ing|ed)\", \"cat playing red\") # La combinación \"?:\" cancela la instrucción de que una vez encontrado el match (en dado caso)\n",
        "                                                # dentro y fuera del paréntesis, regrese solo lo que está dentro, sino que regrese todo\n",
        "                                                # lo que hizo match."
      ],
      "metadata": {
        "id": "0zCIws2Qia1m",
        "outputId": "cbd3130d-a400-4958-8c03-2fbdb2744270",
        "colab": {
          "base_uri": "https://localhost:8080/"
        }
      },
      "execution_count": 49,
      "outputs": [
        {
          "output_type": "execute_result",
          "data": {
            "text/plain": [
              "['playing', 'red']"
            ]
          },
          "metadata": {},
          "execution_count": 49
        }
      ]
    },
    {
      "cell_type": "markdown",
      "source": [
        "***Ejercicio de la clase encontrar aquelos que puedan pertenecer a la lada de Guadalagara***"
      ],
      "metadata": {
        "id": "q8JSfona-8bx"
      }
    },
    {
      "cell_type": "code",
      "source": [
        "import re\n",
        "\n",
        "numeros = [\n",
        "    \"+52 33 1234 5678\",\n",
        "    \"01 33 1234-5678\",\n",
        "    \"(33)12345678\",\n",
        "    \"3312345678\",\n",
        "    \"044 33 9876 5432\",\n",
        "    \"+52-1-33-8765-4321\",\n",
        "    \"33 4444 5555\",\n",
        "    \"+52 55 1234 5678\",\n",
        "    \"5512345678\",\n",
        "    \"(81) 2222-3333\",\n",
        "    \"81 2222 3333\",\n",
        "    \"+52 664 123 4567\",\n",
        "    \"4771234567\",\n",
        "    \"2221234567\",\n",
        "    \"+1 310 555 1234\",\n",
        "    \"12345678\",\n",
        "    \"+52 999 123 4567\",\n",
        "    \"525512345678\",\n",
        "    \"33123-4567\",\n",
        "]\n",
        "\n",
        "# Patrón para LADA 33 (Guadalajara)\n",
        "patron = re.compile(\n",
        "    r\"(?:(?:\\+52|01|044|045)[\\s\\-]*)?\"  # prefijo opcional\n",
        "    r\"\\(?33\\)?[\\s\\-]*\"                 # lada 33 con o sin paréntesis\n",
        "    r\"(?:\\d[\\s\\-]*){8}\"                # 8 dígitos con posibles espacios o guiones\n",
        ")\n",
        "\n",
        "# Filtrar los que coinciden\n",
        "guadalajara = [n for n in numeros if re.search(patron, n)]\n",
        "\n",
        "print(guadalajara)"
      ],
      "metadata": {
        "colab": {
          "base_uri": "https://localhost:8080/"
        },
        "id": "UOjBwOkN-fYU",
        "outputId": "80350717-8ab4-495f-9af4-9bc265b4895e"
      },
      "execution_count": 50,
      "outputs": [
        {
          "output_type": "stream",
          "name": "stdout",
          "text": [
            "['+52 33 1234 5678', '01 33 1234-5678', '(33)12345678', '3312345678', '044 33 9876 5432', '+52-1-33-8765-4321', '33 4444 5555']\n"
          ]
        }
      ]
    },
    {
      "cell_type": "markdown",
      "source": [
        "Recuerda que no existe una única manera de resolver los ejemplos anteriores y tú puedes proponer algunas otras formas."
      ],
      "metadata": {
        "id": "6EXU4ZNiZZUP"
      }
    },
    {
      "cell_type": "markdown",
      "source": [
        "###**Fin del los ejercicios complementarios para practicar de la Semana 2**"
      ],
      "metadata": {
        "id": "ymmsttwf4ky3"
      }
    }
  ]
}